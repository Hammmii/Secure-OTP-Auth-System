{
 "cells": [
  {
   "cell_type": "code",
   "execution_count": 10,
   "metadata": {},
   "outputs": [
    {
     "name": "stdout",
     "output_type": "stream",
     "text": [
      "The 'users' table has been deleted from the database.\n"
     ]
    }
   ],
   "source": [
    "import sqlite3\n",
    "\n",
    "# Connect to the database\n",
    "conn = sqlite3.connect('users.db')\n",
    "cursor = conn.cursor()\n",
    "\n",
    "# Delete the users table\n",
    "cursor.execute('DROP TABLE IF EXISTS users')\n",
    "\n",
    "conn.commit()\n",
    "conn.close()\n",
    "print(\"The 'users' table has been deleted from the database.\")\n"
   ]
  },
  {
   "cell_type": "code",
   "execution_count": 11,
   "metadata": {},
   "outputs": [
    {
     "name": "stdout",
     "output_type": "stream",
     "text": [
      "Database and table created at /Users/apple.store.pk/Desktop/University/InfoSect/info/users.db\n"
     ]
    }
   ],
   "source": [
    "import sqlite3\n",
    "import os\n",
    "\n",
    "# Specify the database path\n",
    "db_path = 'users.db'  # This will create the database in the current working directory\n",
    "\n",
    "# Connect to the database (this will create 'users.db' if it doesn't exist)\n",
    "conn = sqlite3.connect(db_path)\n",
    "cursor = conn.cursor()\n",
    "\n",
    "# Create the users table if it doesn't exist\n",
    "cursor.execute('''\n",
    "CREATE TABLE IF NOT EXISTS users (\n",
    "    id INTEGER PRIMARY KEY AUTOINCREMENT,\n",
    "    username TEXT UNIQUE NOT NULL,\n",
    "    password TEXT NOT NULL,\n",
    "    email TEXT UNIQUE NOT NULL,\n",
    "    confirmed INTEGER DEFAULT 0\n",
    ")\n",
    "''')\n",
    "\n",
    "conn.commit()\n",
    "conn.close()\n",
    "print(f\"Database and table created at {os.path.abspath(db_path)}\")\n"
   ]
  },
  {
   "cell_type": "code",
   "execution_count": 14,
   "metadata": {},
   "outputs": [
    {
     "data": {
      "text/html": [
       "<div>\n",
       "<style scoped>\n",
       "    .dataframe tbody tr th:only-of-type {\n",
       "        vertical-align: middle;\n",
       "    }\n",
       "\n",
       "    .dataframe tbody tr th {\n",
       "        vertical-align: top;\n",
       "    }\n",
       "\n",
       "    .dataframe thead th {\n",
       "        text-align: right;\n",
       "    }\n",
       "</style>\n",
       "<table border=\"1\" class=\"dataframe\">\n",
       "  <thead>\n",
       "    <tr style=\"text-align: right;\">\n",
       "      <th></th>\n",
       "      <th>username</th>\n",
       "      <th>email</th>\n",
       "      <th>password</th>\n",
       "      <th>email_verified</th>\n",
       "      <th>verification_token</th>\n",
       "    </tr>\n",
       "  </thead>\n",
       "  <tbody>\n",
       "    <tr>\n",
       "      <th>0</th>\n",
       "      <td>Hammad</td>\n",
       "      <td>i211684@nu.edu.pk</td>\n",
       "      <td>b'$2b$12$yONUf18hPY8dfX/B59BRCevC/V8EiT9PzvAa6...</td>\n",
       "      <td>1</td>\n",
       "      <td>None</td>\n",
       "    </tr>\n",
       "    <tr>\n",
       "      <th>1</th>\n",
       "      <td>Talal</td>\n",
       "      <td>i200709@nu.edu.pk</td>\n",
       "      <td>b'$2b$12$mg0uRGl4t8cpHxas3KmDfOxVfamJJz9elttFY...</td>\n",
       "      <td>0</td>\n",
       "      <td>ImkyMDA3MDlAbnUuZWR1LnBrIg.Z1A6Kg.ojS2f6xns79Y...</td>\n",
       "    </tr>\n",
       "  </tbody>\n",
       "</table>\n",
       "</div>"
      ],
      "text/plain": [
       "  username              email  \\\n",
       "0   Hammad  i211684@nu.edu.pk   \n",
       "1    Talal  i200709@nu.edu.pk   \n",
       "\n",
       "                                            password  email_verified  \\\n",
       "0  b'$2b$12$yONUf18hPY8dfX/B59BRCevC/V8EiT9PzvAa6...               1   \n",
       "1  b'$2b$12$mg0uRGl4t8cpHxas3KmDfOxVfamJJz9elttFY...               0   \n",
       "\n",
       "                                  verification_token  \n",
       "0                                               None  \n",
       "1  ImkyMDA3MDlAbnUuZWR1LnBrIg.Z1A6Kg.ojS2f6xns79Y...  "
      ]
     },
     "execution_count": 14,
     "metadata": {},
     "output_type": "execute_result"
    }
   ],
   "source": [
    "import sqlite3\n",
    "import pandas as pd\n",
    "\n",
    "def view_users():\n",
    "    # Connect to the database\n",
    "    conn = sqlite3.connect('users.db')\n",
    "    \n",
    "    # Query to select all users\n",
    "    query = 'SELECT username, email, password, email_verified, verification_token FROM users'\n",
    "    \n",
    "    # Fetch the data into a DataFrame\n",
    "    df = pd.read_sql_query(query, conn)\n",
    "    \n",
    "    # Close the connection\n",
    "    conn.close()\n",
    "    \n",
    "    return df\n",
    "\n",
    "\n",
    "# Run the function to see all users\n",
    "view_users()\n"
   ]
  },
  {
   "cell_type": "code",
   "execution_count": 12,
   "metadata": {},
   "outputs": [
    {
     "name": "stdout",
     "output_type": "stream",
     "text": [
      "Database schema updated successfully.\n"
     ]
    }
   ],
   "source": [
    "import sqlite3\n",
    "\n",
    "# Path to your SQLite database\n",
    "database_path = \"users.db\"\n",
    "\n",
    "# SQL commands to alter the table\n",
    "alter_email_verified = \"ALTER TABLE users ADD COLUMN email_verified BOOLEAN DEFAULT 0;\"\n",
    "alter_verification_token = \"ALTER TABLE users ADD COLUMN verification_token TEXT;\"\n",
    "\n",
    "# Connect to the database\n",
    "try:\n",
    "    conn = sqlite3.connect(database_path)\n",
    "    cursor = conn.cursor()\n",
    "\n",
    "    # Execute the ALTER TABLE commands\n",
    "    cursor.execute(alter_email_verified)\n",
    "    cursor.execute(alter_verification_token)\n",
    "    conn.commit()\n",
    "\n",
    "    print(\"Database schema updated successfully.\")\n",
    "except sqlite3.Error as e:\n",
    "    print(f\"An error occurred: {e}\")\n",
    "finally:\n",
    "    if conn:\n",
    "        conn.close()"
   ]
  },
  {
   "cell_type": "code",
   "execution_count": 4,
   "metadata": {},
   "outputs": [
    {
     "name": "stdout",
     "output_type": "stream",
     "text": [
      "Collecting pandas\n",
      "  Using cached pandas-2.2.3-cp312-cp312-macosx_11_0_arm64.whl.metadata (89 kB)\n",
      "Collecting numpy>=1.26.0 (from pandas)\n",
      "  Downloading numpy-2.1.3-cp312-cp312-macosx_14_0_arm64.whl.metadata (62 kB)\n",
      "Requirement already satisfied: python-dateutil>=2.8.2 in ./.venv/lib/python3.12/site-packages (from pandas) (2.9.0.post0)\n",
      "Collecting pytz>=2020.1 (from pandas)\n",
      "  Using cached pytz-2024.2-py2.py3-none-any.whl.metadata (22 kB)\n",
      "Collecting tzdata>=2022.7 (from pandas)\n",
      "  Using cached tzdata-2024.2-py2.py3-none-any.whl.metadata (1.4 kB)\n",
      "Requirement already satisfied: six>=1.5 in ./.venv/lib/python3.12/site-packages (from python-dateutil>=2.8.2->pandas) (1.16.0)\n",
      "Using cached pandas-2.2.3-cp312-cp312-macosx_11_0_arm64.whl (11.4 MB)\n",
      "Downloading numpy-2.1.3-cp312-cp312-macosx_14_0_arm64.whl (5.1 MB)\n",
      "\u001b[2K   \u001b[90m━━━━━━━━━━━━━━━━━━━━━━━━━━━━━━━━━━━━━━━━\u001b[0m \u001b[32m5.1/5.1 MB\u001b[0m \u001b[31m4.0 MB/s\u001b[0m eta \u001b[36m0:00:00\u001b[0ma \u001b[36m0:00:01\u001b[0mm\n",
      "\u001b[?25hUsing cached pytz-2024.2-py2.py3-none-any.whl (508 kB)\n",
      "Using cached tzdata-2024.2-py2.py3-none-any.whl (346 kB)\n",
      "Installing collected packages: pytz, tzdata, numpy, pandas\n",
      "Successfully installed numpy-2.1.3 pandas-2.2.3 pytz-2024.2 tzdata-2024.2\n",
      "Note: you may need to restart the kernel to use updated packages.\n"
     ]
    }
   ],
   "source": [
    "%pip install pandas"
   ]
  },
  {
   "cell_type": "code",
   "execution_count": null,
   "metadata": {},
   "outputs": [],
   "source": []
  }
 ],
 "metadata": {
  "kernelspec": {
   "display_name": "base",
   "language": "python",
   "name": "python3"
  },
  "language_info": {
   "codemirror_mode": {
    "name": "ipython",
    "version": 3
   },
   "file_extension": ".py",
   "mimetype": "text/x-python",
   "name": "python",
   "nbconvert_exporter": "python",
   "pygments_lexer": "ipython3",
   "version": "3.12.7"
  }
 },
 "nbformat": 4,
 "nbformat_minor": 2
}
